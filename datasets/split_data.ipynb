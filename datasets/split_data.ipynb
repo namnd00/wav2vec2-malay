{
 "cells": [
  {
   "cell_type": "code",
   "execution_count": 1,
   "id": "cabef3a4",
   "metadata": {},
   "outputs": [],
   "source": [
    "import pandas as pd\n",
    "import numpy as np"
   ]
  },
  {
   "cell_type": "code",
   "execution_count": 2,
   "id": "ccc32546",
   "metadata": {},
   "outputs": [
    {
     "data": {
      "text/html": [
       "<div>\n",
       "<style scoped>\n",
       "    .dataframe tbody tr th:only-of-type {\n",
       "        vertical-align: middle;\n",
       "    }\n",
       "\n",
       "    .dataframe tbody tr th {\n",
       "        vertical-align: top;\n",
       "    }\n",
       "\n",
       "    .dataframe thead th {\n",
       "        text-align: right;\n",
       "    }\n",
       "</style>\n",
       "<table border=\"1\" class=\"dataframe\">\n",
       "  <thead>\n",
       "    <tr style=\"text-align: right;\">\n",
       "      <th></th>\n",
       "      <th>path</th>\n",
       "      <th>transcript</th>\n",
       "      <th>duration</th>\n",
       "    </tr>\n",
       "  </thead>\n",
       "  <tbody>\n",
       "    <tr>\n",
       "      <th>0</th>\n",
       "      <td>d0b5985f5104dafc6151a69c3bb03f73.wav</td>\n",
       "      <td>besar dan merangkumi pelbagai aspek maknanya b...</td>\n",
       "      <td>5.640</td>\n",
       "    </tr>\n",
       "    <tr>\n",
       "      <th>1</th>\n",
       "      <td>a2481d8bd7b2444c2659117c5fe6125d.wav</td>\n",
       "      <td>sekali lagi dia cukup best aku tak suruh kita ...</td>\n",
       "      <td>5.934</td>\n",
       "    </tr>\n",
       "    <tr>\n",
       "      <th>2</th>\n",
       "      <td>60b28de9c563e90a8c058e5a7f0ae4e6.wav</td>\n",
       "      <td>salam cikgu tube dan sumber-sumber yang kita b...</td>\n",
       "      <td>5.645</td>\n",
       "    </tr>\n",
       "    <tr>\n",
       "      <th>3</th>\n",
       "      <td>a2047aac0ac67c5751f1c92f2c398c51.wav</td>\n",
       "      <td>Seterusnya saya akan pergi kepada peranan muzi...</td>\n",
       "      <td>6.743</td>\n",
       "    </tr>\n",
       "    <tr>\n",
       "      <th>4</th>\n",
       "      <td>d887e5853ae600e9a269cc64dd31e4db.wav</td>\n",
       "      <td>sempat masak lagi eh Sempat lagi pergi beli ba...</td>\n",
       "      <td>6.370</td>\n",
       "    </tr>\n",
       "  </tbody>\n",
       "</table>\n",
       "</div>"
      ],
      "text/plain": [
       "                                   path  \\\n",
       "0  d0b5985f5104dafc6151a69c3bb03f73.wav   \n",
       "1  a2481d8bd7b2444c2659117c5fe6125d.wav   \n",
       "2  60b28de9c563e90a8c058e5a7f0ae4e6.wav   \n",
       "3  a2047aac0ac67c5751f1c92f2c398c51.wav   \n",
       "4  d887e5853ae600e9a269cc64dd31e4db.wav   \n",
       "\n",
       "                                          transcript  duration  \n",
       "0  besar dan merangkumi pelbagai aspek maknanya b...     5.640  \n",
       "1  sekali lagi dia cukup best aku tak suruh kita ...     5.934  \n",
       "2  salam cikgu tube dan sumber-sumber yang kita b...     5.645  \n",
       "3  Seterusnya saya akan pergi kepada peranan muzi...     6.743  \n",
       "4  sempat masak lagi eh Sempat lagi pergi beli ba...     6.370  "
      ]
     },
     "execution_count": 2,
     "metadata": {},
     "output_type": "execute_result"
    }
   ],
   "source": [
    "path = \"annotations.csv\"\n",
    "df = pd.read_csv(path)\n",
    "df.head()"
   ]
  },
  {
   "cell_type": "code",
   "execution_count": 3,
   "id": "a936c504",
   "metadata": {},
   "outputs": [
    {
     "data": {
      "text/plain": [
       "Index(['path', 'transcript', 'duration'], dtype='object')"
      ]
     },
     "execution_count": 3,
     "metadata": {},
     "output_type": "execute_result"
    }
   ],
   "source": [
    "df.columns"
   ]
  },
  {
   "cell_type": "code",
   "execution_count": 7,
   "id": "8d90c28b",
   "metadata": {},
   "outputs": [
    {
     "data": {
      "text/plain": [
       "57758"
      ]
     },
     "execution_count": 7,
     "metadata": {},
     "output_type": "execute_result"
    }
   ],
   "source": [
    "len(df)"
   ]
  },
  {
   "cell_type": "code",
   "execution_count": 4,
   "id": "d716c5b4",
   "metadata": {},
   "outputs": [],
   "source": [
    "train_ratio = 0.8"
   ]
  },
  {
   "cell_type": "code",
   "execution_count": 6,
   "id": "bddce6eb",
   "metadata": {},
   "outputs": [
    {
     "data": {
      "text/plain": [
       "array([ True,  True,  True, ...,  True,  True,  True])"
      ]
     },
     "execution_count": 6,
     "metadata": {},
     "output_type": "execute_result"
    }
   ],
   "source": [
    "msk = np.random.rand(len(df)) <= train_ratio\n",
    "msk"
   ]
  },
  {
   "cell_type": "code",
   "execution_count": 9,
   "id": "9f62b3ef",
   "metadata": {},
   "outputs": [
    {
     "data": {
      "text/plain": [
       "46316"
      ]
     },
     "execution_count": 9,
     "metadata": {},
     "output_type": "execute_result"
    }
   ],
   "source": [
    "train_csv = df[msk]\n",
    "len(train_csv)"
   ]
  },
  {
   "cell_type": "code",
   "execution_count": 11,
   "id": "6dc278bd",
   "metadata": {},
   "outputs": [],
   "source": [
    "temp_test_csv = df[~msk]\n",
    "# get mask train to split temp train dataframe to train and val\n",
    "msk_test = np.random.rand(len(temp_test_csv)) <= 0.5\n",
    "# split temp train dataframe to train and val\n",
    "test_csv = temp_test_csv[msk_test]\n",
    "eval_csv = temp_test_csv[~msk_test]"
   ]
  },
  {
   "cell_type": "code",
   "execution_count": 12,
   "id": "cd7439fb",
   "metadata": {},
   "outputs": [
    {
     "data": {
      "text/plain": [
       "(5633, 5809)"
      ]
     },
     "execution_count": 12,
     "metadata": {},
     "output_type": "execute_result"
    }
   ],
   "source": [
    "len(test_csv), len(eval_csv)"
   ]
  },
  {
   "cell_type": "code",
   "execution_count": 13,
   "id": "98073dc4",
   "metadata": {},
   "outputs": [],
   "source": [
    "train_csv.to_csv(\"train.csv\", index=False)\n",
    "eval_csv.to_csv(\"train.csv\", index=False)\n",
    "test_csv.to_csv(\"train.csv\", index=False)"
   ]
  },
  {
   "cell_type": "code",
   "execution_count": null,
   "id": "d946a269",
   "metadata": {},
   "outputs": [],
   "source": []
  }
 ],
 "metadata": {
  "kernelspec": {
   "display_name": "Python 3 (ipykernel)",
   "language": "python",
   "name": "python3"
  },
  "language_info": {
   "codemirror_mode": {
    "name": "ipython",
    "version": 3
   },
   "file_extension": ".py",
   "mimetype": "text/x-python",
   "name": "python",
   "nbconvert_exporter": "python",
   "pygments_lexer": "ipython3",
   "version": "3.8.11"
  }
 },
 "nbformat": 4,
 "nbformat_minor": 5
}

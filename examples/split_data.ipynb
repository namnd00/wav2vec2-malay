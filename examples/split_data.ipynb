{
 "cells": [
  {
   "cell_type": "code",
   "execution_count": 1,
   "id": "cabef3a4",
   "metadata": {},
   "outputs": [],
   "source": [
    "import pandas as pd\n",
    "import numpy as np"
   ]
  },
  {
   "cell_type": "code",
   "execution_count": 2,
   "id": "ccc32546",
   "metadata": {},
   "outputs": [
    {
     "data": {
      "text/html": [
       "<div>\n",
       "<style scoped>\n",
       "    .dataframe tbody tr th:only-of-type {\n",
       "        vertical-align: middle;\n",
       "    }\n",
       "\n",
       "    .dataframe tbody tr th {\n",
       "        vertical-align: top;\n",
       "    }\n",
       "\n",
       "    .dataframe thead th {\n",
       "        text-align: right;\n",
       "    }\n",
       "</style>\n",
       "<table border=\"1\" class=\"dataframe\">\n",
       "  <thead>\n",
       "    <tr style=\"text-align: right;\">\n",
       "      <th></th>\n",
       "      <th>path</th>\n",
       "      <th>transcript</th>\n",
       "    </tr>\n",
       "  </thead>\n",
       "  <tbody>\n",
       "    <tr>\n",
       "      <th>0</th>\n",
       "      <td>fp6ABAjcXPI.0007.wav</td>\n",
       "      <td>Sekarang saya dimaklumkan bahawa jika</td>\n",
       "    </tr>\n",
       "    <tr>\n",
       "      <th>1</th>\n",
       "      <td>fp6ABAjcXPI.0008.wav</td>\n",
       "      <td>cara maklumkan 5 minit setiap</td>\n",
       "    </tr>\n",
       "    <tr>\n",
       "      <th>2</th>\n",
       "      <td>fp6ABAjcXPI.0009.wav</td>\n",
       "      <td>kepada ahli-ahli parlimen kita jumpa</td>\n",
       "    </tr>\n",
       "    <tr>\n",
       "      <th>3</th>\n",
       "      <td>fp6ABAjcXPI.0010.wav</td>\n",
       "      <td>Kampung Mat Kuala Krai</td>\n",
       "    </tr>\n",
       "    <tr>\n",
       "      <th>4</th>\n",
       "      <td>fp6ABAjcXPI.0011.wav</td>\n",
       "      <td>Assalamualaikum warahmatullahi wabarakatuh Ter...</td>\n",
       "    </tr>\n",
       "  </tbody>\n",
       "</table>\n",
       "</div>"
      ],
      "text/plain": [
       "                   path                                         transcript\n",
       "0  fp6ABAjcXPI.0007.wav              Sekarang saya dimaklumkan bahawa jika\n",
       "1  fp6ABAjcXPI.0008.wav                      cara maklumkan 5 minit setiap\n",
       "2  fp6ABAjcXPI.0009.wav               kepada ahli-ahli parlimen kita jumpa\n",
       "3  fp6ABAjcXPI.0010.wav                             Kampung Mat Kuala Krai\n",
       "4  fp6ABAjcXPI.0011.wav  Assalamualaikum warahmatullahi wabarakatuh Ter..."
      ]
     },
     "execution_count": 2,
     "metadata": {},
     "output_type": "execute_result"
    }
   ],
   "source": [
    "path = \"annotations.csv\"\n",
    "df = pd.read_csv(path)\n",
    "df.head()"
   ]
  },
  {
   "cell_type": "code",
   "execution_count": 3,
   "id": "a936c504",
   "metadata": {},
   "outputs": [
    {
     "data": {
      "text/plain": [
       "Index(['path', 'transcript'], dtype='object')"
      ]
     },
     "execution_count": 3,
     "metadata": {},
     "output_type": "execute_result"
    }
   ],
   "source": [
    "df.columns"
   ]
  },
  {
   "cell_type": "code",
   "execution_count": 4,
   "id": "8d90c28b",
   "metadata": {},
   "outputs": [
    {
     "data": {
      "text/plain": [
       "100"
      ]
     },
     "execution_count": 4,
     "metadata": {},
     "output_type": "execute_result"
    }
   ],
   "source": [
    "len(df)"
   ]
  },
  {
   "cell_type": "code",
   "execution_count": 5,
   "id": "d716c5b4",
   "metadata": {},
   "outputs": [],
   "source": [
    "train_ratio = 0.8"
   ]
  },
  {
   "cell_type": "code",
   "execution_count": 6,
   "id": "bddce6eb",
   "metadata": {},
   "outputs": [
    {
     "data": {
      "text/plain": [
       "array([ True, False,  True,  True,  True,  True, False, False, False,\n",
       "        True,  True, False,  True,  True,  True,  True, False,  True,\n",
       "        True,  True,  True,  True,  True,  True,  True,  True, False,\n",
       "        True,  True, False,  True,  True, False,  True, False,  True,\n",
       "        True,  True, False,  True,  True,  True, False,  True,  True,\n",
       "       False,  True, False,  True,  True,  True,  True,  True,  True,\n",
       "        True,  True, False,  True,  True, False,  True,  True,  True,\n",
       "        True,  True,  True,  True,  True,  True,  True,  True,  True,\n",
       "        True, False,  True,  True,  True,  True,  True,  True,  True,\n",
       "        True, False, False,  True, False,  True,  True,  True,  True,\n",
       "        True,  True,  True,  True,  True,  True,  True, False,  True,\n",
       "        True])"
      ]
     },
     "execution_count": 6,
     "metadata": {},
     "output_type": "execute_result"
    }
   ],
   "source": [
    "msk = np.random.rand(len(df)) <= train_ratio\n",
    "msk"
   ]
  },
  {
   "cell_type": "code",
   "execution_count": 7,
   "id": "9f62b3ef",
   "metadata": {},
   "outputs": [
    {
     "data": {
      "text/plain": [
       "79"
      ]
     },
     "execution_count": 7,
     "metadata": {},
     "output_type": "execute_result"
    }
   ],
   "source": [
    "train_csv = df[msk]\n",
    "len(train_csv)"
   ]
  },
  {
   "cell_type": "code",
   "execution_count": 8,
   "id": "6dc278bd",
   "metadata": {},
   "outputs": [],
   "source": [
    "temp_test_csv = df[~msk]\n",
    "# get mask train to split temp train dataframe to train and val\n",
    "msk_test = np.random.rand(len(temp_test_csv)) <= 0.5\n",
    "# split temp train dataframe to train and val\n",
    "test_csv = temp_test_csv[msk_test]\n",
    "eval_csv = temp_test_csv[~msk_test]"
   ]
  },
  {
   "cell_type": "code",
   "execution_count": 9,
   "id": "cd7439fb",
   "metadata": {},
   "outputs": [
    {
     "data": {
      "text/plain": [
       "(13, 8)"
      ]
     },
     "execution_count": 9,
     "metadata": {},
     "output_type": "execute_result"
    }
   ],
   "source": [
    "len(test_csv), len(eval_csv)"
   ]
  },
  {
   "cell_type": "code",
   "execution_count": 10,
   "id": "98073dc4",
   "metadata": {},
   "outputs": [],
   "source": [
    "train_csv.to_csv(\"train.csv\", index=False)\n",
    "eval_csv.to_csv(\"eval.csv\", index=False)\n",
    "test_csv.to_csv(\"test.csv\", index=False)"
   ]
  },
  {
   "cell_type": "code",
   "execution_count": null,
   "id": "d946a269",
   "metadata": {},
   "outputs": [],
   "source": []
  }
 ],
 "metadata": {
  "kernelspec": {
   "display_name": "Python 3 (ipykernel)",
   "language": "python",
   "name": "python3"
  },
  "language_info": {
   "codemirror_mode": {
    "name": "ipython",
    "version": 3
   },
   "file_extension": ".py",
   "mimetype": "text/x-python",
   "name": "python",
   "nbconvert_exporter": "python",
   "pygments_lexer": "ipython3",
   "version": "3.8.11"
  }
 },
 "nbformat": 4,
 "nbformat_minor": 5
}
